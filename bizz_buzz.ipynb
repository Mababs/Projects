{
 "cells": [
  {
   "cell_type": "code",
   "execution_count": 16,
   "metadata": {},
   "outputs": [
    {
     "data": {
      "text/plain": [
       "6.0"
      ]
     },
     "execution_count": 16,
     "metadata": {},
     "output_type": "execute_result"
    }
   ],
   "source": [
    "# this is an example of how to make a function. \n",
    "\n",
    "# this function will be called my_function and it will take a single argument (or input)\n",
    "\n",
    "# my_function will take a number as an argument, add 5, divide the result by two, and store the result as answer\n",
    "\n",
    "# then, the answer is returned by the function\n",
    "\n",
    "def my_function(number):\n",
    "    \n",
    "    answer = (number + 5) / 2\n",
    "    \n",
    "    return answer\n",
    "    \n",
    "#lets test our function on the number 7\n",
    "\n",
    "my_function(7)"
   ]
  },
  {
   "cell_type": "code",
   "execution_count": 55,
   "metadata": {
    "scrolled": true
   },
   "outputs": [
    {
     "ename": "SyntaxError",
     "evalue": "invalid syntax (<ipython-input-55-9f494c3de9ce>, line 18)",
     "output_type": "error",
     "traceback": [
      "\u001b[1;36m  File \u001b[1;32m\"<ipython-input-55-9f494c3de9ce>\"\u001b[1;36m, line \u001b[1;32m18\u001b[0m\n\u001b[1;33m    elif i == 0:\u001b[0m\n\u001b[1;37m       ^\u001b[0m\n\u001b[1;31mSyntaxError\u001b[0m\u001b[1;31m:\u001b[0m invalid syntax\n"
     ]
    }
   ],
   "source": [
    "\n",
    "# your assignment is to write a function called bizz_buzz\n",
    "\n",
    "# bizz_buzz should take a single argument, number\n",
    "\n",
    "# the function you write should return a list of numbers from 0 up to the chosen number , [0, 1, 2, 3, ... , number]\n",
    "\n",
    "# we start by initiating an empty list so we can add numbers to it \n",
    "\n",
    "my_list = []\n",
    "\n",
    "# now we can define our function, and make a loop to fill in my_list\n",
    "\n",
    "def bizz_buzz(number):\n",
    "    \n",
    "    for i in range(number + 1):\n",
    "              \n",
    "            \n",
    "            \n",
    "            \n",
    "            if i % 4 == 0 and i % 6 == 0:\n",
    "                my_list.append(\"bizzbuzz\")\n",
    "            \n",
    "            elif i == 0:\n",
    "                my_list.append(0)\n",
    "                \n",
    "            elif i % 4 == 0:\n",
    "                    my_list.append(\"bizz\")\n",
    "    \n",
    "            elif i % 6 ==0:\n",
    "                    my_list.append(\"buzz\")\n",
    "            else:\n",
    "                my_list.append(i)\n",
    "                \n",
    "          \n",
    "        \n",
    "        \n",
    "    return my_list\n",
    "\n",
    "\n",
    "print(bizz_buzz(70))"
   ]
  },
  {
   "cell_type": "code",
   "execution_count": null,
   "metadata": {},
   "outputs": [],
   "source": [
    "# Now, update your function, so that everytime it needs to append a multiple of 5 to the list, instead it writes 'bizz'\n",
    "\n",
    "\n",
    "\n",
    "# DO the same thing, but this time, if its a multiple of 7, print 'buzz' instead of the number\n",
    "    \n"
   ]
  },
  {
   "cell_type": "code",
   "execution_count": null,
   "metadata": {},
   "outputs": [],
   "source": []
  },
  {
   "cell_type": "code",
   "execution_count": null,
   "metadata": {},
   "outputs": [],
   "source": []
  },
  {
   "cell_type": "code",
   "execution_count": null,
   "metadata": {},
   "outputs": [],
   "source": []
  },
  {
   "cell_type": "code",
   "execution_count": null,
   "metadata": {},
   "outputs": [],
   "source": []
  },
  {
   "cell_type": "code",
   "execution_count": null,
   "metadata": {},
   "outputs": [],
   "source": []
  },
  {
   "cell_type": "code",
   "execution_count": null,
   "metadata": {},
   "outputs": [],
   "source": []
  },
  {
   "cell_type": "code",
   "execution_count": null,
   "metadata": {},
   "outputs": [],
   "source": []
  },
  {
   "cell_type": "code",
   "execution_count": null,
   "metadata": {},
   "outputs": [],
   "source": []
  },
  {
   "cell_type": "code",
   "execution_count": null,
   "metadata": {},
   "outputs": [],
   "source": []
  },
  {
   "cell_type": "code",
   "execution_count": null,
   "metadata": {},
   "outputs": [],
   "source": []
  }
 ],
 "metadata": {
  "kernelspec": {
   "display_name": "Python 3",
   "language": "python",
   "name": "python3"
  },
  "language_info": {
   "codemirror_mode": {
    "name": "ipython",
    "version": 3
   },
   "file_extension": ".py",
   "mimetype": "text/x-python",
   "name": "python",
   "nbconvert_exporter": "python",
   "pygments_lexer": "ipython3",
   "version": "3.7.3"
  }
 },
 "nbformat": 4,
 "nbformat_minor": 2
}
