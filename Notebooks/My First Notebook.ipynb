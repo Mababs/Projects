{
 "cells": [
  {
   "cell_type": "code",
   "execution_count": 268,
   "metadata": {},
   "outputs": [
    {
     "name": "stdout",
     "output_type": "stream",
     "text": [
      "3\n",
      "<class 'float'>\n",
      "<class 'str'>\n",
      "maxdmax\n",
      "maxd\n",
      "['one', 'hey', 2, 3, 4, 5, 200]\n"
     ]
    }
   ],
   "source": [
    "#data types \n",
    "\n",
    "my_integer=3\n",
    "\n",
    "print(my_integer)\n",
    "\n",
    "my_float=3.0\n",
    "\n",
    "print(type(my_float))\n",
    "\n",
    "\n",
    "my_string=\"maxd\"\n",
    "\n",
    "\n",
    "print(type(my_string))\n",
    "\n",
    "\n",
    "my_string2=\"max\"\n",
    "\n",
    "\n",
    "print(my_string+my_string2)\n",
    "\n",
    "\n",
    "print(my_string)\n",
    "\n",
    "\n",
    "my_list=[\"one\",\"hey\",2,3,4,5,200]\n",
    "\n",
    "print(my_list[0:7])\n",
    "\n",
    "\n",
    "\n",
    "my_dictonary= {\"color\" : \"blue\"}\n",
    "\n",
    "\n",
    "\n"
   ]
  },
  {
   "cell_type": "code",
   "execution_count": 294,
   "metadata": {},
   "outputs": [
    {
     "name": "stdout",
     "output_type": "stream",
     "text": [
      "['Mr.C']\n",
      "['Mr.C', ['one', 'hey', 2, 3, 4, 5, 200]]\n",
      "['Mr.C', ['one', 'hey', 2, 3, 4, 5, 200]]\n"
     ]
    }
   ],
   "source": [
    "teachers=[]\n",
    "\n",
    "teachers.append(\"Mr.C\")\n",
    "\n",
    "print(teachers)\n",
    "\n",
    "teachers.append(my_list)\n",
    "\n",
    "print(teachers)\n",
    "\n",
    "print(teachers)"
   ]
  },
  {
   "cell_type": "code",
   "execution_count": null,
   "metadata": {},
   "outputs": [],
   "source": []
  },
  {
   "cell_type": "code",
   "execution_count": null,
   "metadata": {},
   "outputs": [],
   "source": []
  },
  {
   "cell_type": "code",
   "execution_count": null,
   "metadata": {},
   "outputs": [],
   "source": []
  },
  {
   "cell_type": "code",
   "execution_count": null,
   "metadata": {},
   "outputs": [],
   "source": []
  },
  {
   "cell_type": "code",
   "execution_count": null,
   "metadata": {},
   "outputs": [],
   "source": []
  }
 ],
 "metadata": {
  "kernelspec": {
   "display_name": "Python 3",
   "language": "python",
   "name": "python3"
  },
  "language_info": {
   "codemirror_mode": {
    "name": "ipython",
    "version": 3
   },
   "file_extension": ".py",
   "mimetype": "text/x-python",
   "name": "python",
   "nbconvert_exporter": "python",
   "pygments_lexer": "ipython3",
   "version": "3.7.3"
  }
 },
 "nbformat": 4,
 "nbformat_minor": 2
}
