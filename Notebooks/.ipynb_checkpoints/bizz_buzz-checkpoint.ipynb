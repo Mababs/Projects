{
 "cells": [
  {
   "cell_type": "code",
   "execution_count": 3,
   "metadata": {},
   "outputs": [],
   "source": [
    "# this is an example of how to make a function. \n",
    "\n",
    "# this function will be called my_function and it will take a single argument (or input)\n",
    "\n",
    "# my_function will take a number as an argument, add 5, divide the result by two, and store the result as answer\n",
    "\n",
    "# then, the answer is returned by the function\n",
    "\n",
    "def my_function(number):\n",
    "    \n",
    "    answer = (number + 5) / 2\n",
    "    \n",
    "    return answer\n",
    "    \n",
    "#lets test our function on the number 7\n",
    "\n",
    "my_function(7)"
   ]
  },
  {
   "cell_type": "code",
   "execution_count": 12,
   "metadata": {},
   "outputs": [
    {
     "ename": "IndentationError",
     "evalue": "expected an indented block (<ipython-input-12-16350498665e>, line 21)",
     "output_type": "error",
     "traceback": [
      "\u001b[1;36m  File \u001b[1;32m\"<ipython-input-12-16350498665e>\"\u001b[1;36m, line \u001b[1;32m21\u001b[0m\n\u001b[1;33m    return my_list\u001b[0m\n\u001b[1;37m         ^\u001b[0m\n\u001b[1;31mIndentationError\u001b[0m\u001b[1;31m:\u001b[0m expected an indented block\n"
     ]
    }
   ],
   "source": [
    "\n",
    "# your assignment is to write a function called bizz_buzz\n",
    "\n",
    "# bizz_buzz should take a single argument, number\n",
    "\n",
    "# the function you write should return a list of numbers from 0 up to the chosen number , [0, 1, 2, 3, ... , number]\n",
    "\n",
    "# we start by initiating an empty list so we can add numbers to it \n",
    "\n",
    "my_list = []\n",
    "\n",
    "# now we can define our function, and make a loop to fill in my_list\n",
    "\n",
    "def bizz_buzz(number):\n",
    "    \n",
    "    for i in range(number):\n",
    "        \n",
    "        # write code here to append the number i to my_list\n",
    "        \n",
    "        \n",
    "    return my_list\n"
   ]
  },
  {
   "cell_type": "code",
   "execution_count": null,
   "metadata": {},
   "outputs": [],
   "source": [
    "# Now, update your function, so that everytime it needs to append a multiple of 5 to the list, instead it writes 'bizz'\n",
    "\n",
    "\n",
    "\n",
    "# DO the same thing, but this time, if its a multiple of 7, print 'buzz' instead of the number\n",
    "    \n"
   ]
  },
  {
   "cell_type": "code",
   "execution_count": null,
   "metadata": {},
   "outputs": [],
   "source": []
  },
  {
   "cell_type": "code",
   "execution_count": null,
   "metadata": {},
   "outputs": [],
   "source": []
  },
  {
   "cell_type": "code",
   "execution_count": null,
   "metadata": {},
   "outputs": [],
   "source": []
  },
  {
   "cell_type": "code",
   "execution_count": null,
   "metadata": {},
   "outputs": [],
   "source": []
  },
  {
   "cell_type": "code",
   "execution_count": null,
   "metadata": {},
   "outputs": [],
   "source": []
  },
  {
   "cell_type": "code",
   "execution_count": null,
   "metadata": {},
   "outputs": [],
   "source": []
  },
  {
   "cell_type": "code",
   "execution_count": null,
   "metadata": {},
   "outputs": [],
   "source": []
  },
  {
   "cell_type": "code",
   "execution_count": null,
   "metadata": {},
   "outputs": [],
   "source": []
  },
  {
   "cell_type": "code",
   "execution_count": null,
   "metadata": {},
   "outputs": [],
   "source": []
  },
  {
   "cell_type": "code",
   "execution_count": null,
   "metadata": {},
   "outputs": [],
   "source": []
  }
 ],
 "metadata": {
  "kernelspec": {
   "display_name": "Python 3",
   "language": "python",
   "name": "python3"
  },
  "language_info": {
   "codemirror_mode": {
    "name": "ipython",
    "version": 3
   },
   "file_extension": ".py",
   "mimetype": "text/x-python",
   "name": "python",
   "nbconvert_exporter": "python",
   "pygments_lexer": "ipython3",
   "version": "3.7.3"
  }
 },
 "nbformat": 4,
 "nbformat_minor": 2
}
